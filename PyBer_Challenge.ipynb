{
 "cells": [
  {
   "cell_type": "markdown",
   "metadata": {},
   "source": [
    "# Pyber Challenge"
   ]
  },
  {
   "cell_type": "markdown",
   "metadata": {},
   "source": [
    "### 4.3 Loading and Reading CSV files"
   ]
  },
  {
   "cell_type": "code",
   "execution_count": 1,
   "metadata": {},
   "outputs": [],
   "source": [
    "# Add Matplotlib inline magic command\n",
    "%matplotlib inline\n",
    "# Dependencies and Setup\n",
    "import matplotlib.pyplot as plt\n",
    "import pandas as pd\n",
    "\n",
    "# File to Load (Remember to change these)\n",
    "city_data_to_load = \"Resources/city_data.csv\"\n",
    "ride_data_to_load = \"Resources/ride_data.csv\"\n",
    "\n",
    "# Read the City and Ride Data\n",
    "city_data_df = pd.read_csv(city_data_to_load)\n",
    "ride_data_df = pd.read_csv(ride_data_to_load)"
   ]
  },
  {
   "cell_type": "markdown",
   "metadata": {},
   "source": [
    "### Merge the DataFrames"
   ]
  },
  {
   "cell_type": "code",
   "execution_count": 2,
   "metadata": {
    "scrolled": true
   },
   "outputs": [
    {
     "data": {
      "text/html": [
       "<div>\n",
       "<style scoped>\n",
       "    .dataframe tbody tr th:only-of-type {\n",
       "        vertical-align: middle;\n",
       "    }\n",
       "\n",
       "    .dataframe tbody tr th {\n",
       "        vertical-align: top;\n",
       "    }\n",
       "\n",
       "    .dataframe thead th {\n",
       "        text-align: right;\n",
       "    }\n",
       "</style>\n",
       "<table border=\"1\" class=\"dataframe\">\n",
       "  <thead>\n",
       "    <tr style=\"text-align: right;\">\n",
       "      <th></th>\n",
       "      <th>city</th>\n",
       "      <th>date</th>\n",
       "      <th>fare</th>\n",
       "      <th>ride_id</th>\n",
       "      <th>driver_count</th>\n",
       "      <th>type</th>\n",
       "    </tr>\n",
       "  </thead>\n",
       "  <tbody>\n",
       "    <tr>\n",
       "      <th>0</th>\n",
       "      <td>Lake Jonathanshire</td>\n",
       "      <td>2019-01-14 10:14:22</td>\n",
       "      <td>13.83</td>\n",
       "      <td>5739410935873</td>\n",
       "      <td>5</td>\n",
       "      <td>Urban</td>\n",
       "    </tr>\n",
       "    <tr>\n",
       "      <th>1</th>\n",
       "      <td>South Michelleport</td>\n",
       "      <td>2019-03-04 18:24:09</td>\n",
       "      <td>30.24</td>\n",
       "      <td>2343912425577</td>\n",
       "      <td>72</td>\n",
       "      <td>Urban</td>\n",
       "    </tr>\n",
       "    <tr>\n",
       "      <th>2</th>\n",
       "      <td>Port Samanthamouth</td>\n",
       "      <td>2019-02-24 04:29:00</td>\n",
       "      <td>33.44</td>\n",
       "      <td>2005065760003</td>\n",
       "      <td>57</td>\n",
       "      <td>Urban</td>\n",
       "    </tr>\n",
       "    <tr>\n",
       "      <th>3</th>\n",
       "      <td>Rodneyfort</td>\n",
       "      <td>2019-02-10 23:22:03</td>\n",
       "      <td>23.44</td>\n",
       "      <td>5149245426178</td>\n",
       "      <td>34</td>\n",
       "      <td>Urban</td>\n",
       "    </tr>\n",
       "    <tr>\n",
       "      <th>4</th>\n",
       "      <td>South Jack</td>\n",
       "      <td>2019-03-06 04:28:35</td>\n",
       "      <td>34.58</td>\n",
       "      <td>3908451377344</td>\n",
       "      <td>46</td>\n",
       "      <td>Urban</td>\n",
       "    </tr>\n",
       "  </tbody>\n",
       "</table>\n",
       "</div>"
      ],
      "text/plain": [
       "                 city                 date   fare        ride_id  \\\n",
       "0  Lake Jonathanshire  2019-01-14 10:14:22  13.83  5739410935873   \n",
       "1  South Michelleport  2019-03-04 18:24:09  30.24  2343912425577   \n",
       "2  Port Samanthamouth  2019-02-24 04:29:00  33.44  2005065760003   \n",
       "3          Rodneyfort  2019-02-10 23:22:03  23.44  5149245426178   \n",
       "4          South Jack  2019-03-06 04:28:35  34.58  3908451377344   \n",
       "\n",
       "   driver_count   type  \n",
       "0             5  Urban  \n",
       "1            72  Urban  \n",
       "2            57  Urban  \n",
       "3            34  Urban  \n",
       "4            46  Urban  "
      ]
     },
     "execution_count": 2,
     "metadata": {},
     "output_type": "execute_result"
    }
   ],
   "source": [
    "# Combine the data into a single dataset\n",
    "pyber_data_df = pd.merge(ride_data_df, city_data_df, how=\"left\", on=[\"city\", \"city\"])\n",
    "\n",
    "# Display the data table for preview\n",
    "pyber_data_df.head()"
   ]
  },
  {
   "cell_type": "markdown",
   "metadata": {},
   "source": [
    "## Deliverable 1: Get a Summary DataFrame "
   ]
  },
  {
   "cell_type": "code",
   "execution_count": 3,
   "metadata": {},
   "outputs": [],
   "source": [
    "#  1. Get the total rides for each city type\n",
    "total_rides = pyber_data_df.groupby(['type']).count()['ride_id']"
   ]
  },
  {
   "cell_type": "code",
   "execution_count": 4,
   "metadata": {},
   "outputs": [],
   "source": [
    "# 2. Get the total drivers for each city type\n",
    "total_drivers = pyber_data_df.groupby(['type']).sum()['driver_count']"
   ]
  },
  {
   "cell_type": "code",
   "execution_count": 5,
   "metadata": {},
   "outputs": [],
   "source": [
    "#  3. Get the total amount of fares for each city type\n",
    "total_fare = pyber_data_df.groupby(['type']).sum()['fare']"
   ]
  },
  {
   "cell_type": "code",
   "execution_count": 6,
   "metadata": {},
   "outputs": [],
   "source": [
    "#  4. Get the average fare per ride for each city type. \n",
    "average_fare = total_fare / total_rides"
   ]
  },
  {
   "cell_type": "code",
   "execution_count": 7,
   "metadata": {},
   "outputs": [],
   "source": [
    "# 5. Get the average fare per driver for each city type. \n",
    "avg_driver_fare = total_fare / total_drivers"
   ]
  },
  {
   "cell_type": "code",
   "execution_count": 8,
   "metadata": {},
   "outputs": [],
   "source": [
    "#  6. Create a PyBer summary DataFrame. \n",
    "pyber_summary_df = pd.DataFrame({\n",
    "    \"Total Rides\": total_rides,\n",
    "    \"Total Drivers\": total_drivers,\n",
    "    \"Total Fares\": total_fare,\n",
    "    \"Average Fare per Ride\": average_fare,\n",
    "    \"Average Fare per Driver\": avg_driver_fare})"
   ]
  },
  {
   "cell_type": "code",
   "execution_count": 9,
   "metadata": {},
   "outputs": [
    {
     "data": {
      "text/html": [
       "<div>\n",
       "<style scoped>\n",
       "    .dataframe tbody tr th:only-of-type {\n",
       "        vertical-align: middle;\n",
       "    }\n",
       "\n",
       "    .dataframe tbody tr th {\n",
       "        vertical-align: top;\n",
       "    }\n",
       "\n",
       "    .dataframe thead th {\n",
       "        text-align: right;\n",
       "    }\n",
       "</style>\n",
       "<table border=\"1\" class=\"dataframe\">\n",
       "  <thead>\n",
       "    <tr style=\"text-align: right;\">\n",
       "      <th></th>\n",
       "      <th>Total Rides</th>\n",
       "      <th>Total Drivers</th>\n",
       "      <th>Total Fares</th>\n",
       "      <th>Average Fare per Ride</th>\n",
       "      <th>Average Fare per Driver</th>\n",
       "    </tr>\n",
       "  </thead>\n",
       "  <tbody>\n",
       "    <tr>\n",
       "      <th>Rural</th>\n",
       "      <td>125</td>\n",
       "      <td>537</td>\n",
       "      <td>4327.93</td>\n",
       "      <td>34.623440</td>\n",
       "      <td>8.059460</td>\n",
       "    </tr>\n",
       "    <tr>\n",
       "      <th>Suburban</th>\n",
       "      <td>625</td>\n",
       "      <td>8570</td>\n",
       "      <td>19356.33</td>\n",
       "      <td>30.970128</td>\n",
       "      <td>2.258615</td>\n",
       "    </tr>\n",
       "    <tr>\n",
       "      <th>Urban</th>\n",
       "      <td>1625</td>\n",
       "      <td>59602</td>\n",
       "      <td>39854.38</td>\n",
       "      <td>24.525772</td>\n",
       "      <td>0.668675</td>\n",
       "    </tr>\n",
       "  </tbody>\n",
       "</table>\n",
       "</div>"
      ],
      "text/plain": [
       "          Total Rides  Total Drivers  Total Fares  Average Fare per Ride  \\\n",
       "Rural             125            537      4327.93              34.623440   \n",
       "Suburban          625           8570     19356.33              30.970128   \n",
       "Urban            1625          59602     39854.38              24.525772   \n",
       "\n",
       "          Average Fare per Driver  \n",
       "Rural                    8.059460  \n",
       "Suburban                 2.258615  \n",
       "Urban                    0.668675  "
      ]
     },
     "execution_count": 9,
     "metadata": {},
     "output_type": "execute_result"
    }
   ],
   "source": [
    "#  7. Cleaning up the DataFrame. Delete the index name\n",
    "pyber_summary_df.index.name = None\n",
    "pyber_summary_df.head()"
   ]
  },
  {
   "cell_type": "code",
   "execution_count": 10,
   "metadata": {},
   "outputs": [
    {
     "data": {
      "text/html": [
       "<div>\n",
       "<style scoped>\n",
       "    .dataframe tbody tr th:only-of-type {\n",
       "        vertical-align: middle;\n",
       "    }\n",
       "\n",
       "    .dataframe tbody tr th {\n",
       "        vertical-align: top;\n",
       "    }\n",
       "\n",
       "    .dataframe thead th {\n",
       "        text-align: right;\n",
       "    }\n",
       "</style>\n",
       "<table border=\"1\" class=\"dataframe\">\n",
       "  <thead>\n",
       "    <tr style=\"text-align: right;\">\n",
       "      <th></th>\n",
       "      <th>Total Rides</th>\n",
       "      <th>Total Drivers</th>\n",
       "      <th>Total Fares</th>\n",
       "      <th>Average Fare per Ride</th>\n",
       "      <th>Average Fare per Driver</th>\n",
       "    </tr>\n",
       "  </thead>\n",
       "  <tbody>\n",
       "    <tr>\n",
       "      <th>Rural</th>\n",
       "      <td>125</td>\n",
       "      <td>537</td>\n",
       "      <td>$4,327.93</td>\n",
       "      <td>$34.62</td>\n",
       "      <td>$8.06</td>\n",
       "    </tr>\n",
       "    <tr>\n",
       "      <th>Suburban</th>\n",
       "      <td>625</td>\n",
       "      <td>8,570</td>\n",
       "      <td>$19,356.33</td>\n",
       "      <td>$30.97</td>\n",
       "      <td>$2.26</td>\n",
       "    </tr>\n",
       "    <tr>\n",
       "      <th>Urban</th>\n",
       "      <td>1,625</td>\n",
       "      <td>59,602</td>\n",
       "      <td>$39,854.38</td>\n",
       "      <td>$24.53</td>\n",
       "      <td>$0.67</td>\n",
       "    </tr>\n",
       "  </tbody>\n",
       "</table>\n",
       "</div>"
      ],
      "text/plain": [
       "         Total Rides Total Drivers Total Fares Average Fare per Ride  \\\n",
       "Rural            125           537   $4,327.93                $34.62   \n",
       "Suburban         625         8,570  $19,356.33                $30.97   \n",
       "Urban          1,625        59,602  $39,854.38                $24.53   \n",
       "\n",
       "         Average Fare per Driver  \n",
       "Rural                      $8.06  \n",
       "Suburban                   $2.26  \n",
       "Urban                      $0.67  "
      ]
     },
     "execution_count": 10,
     "metadata": {},
     "output_type": "execute_result"
    }
   ],
   "source": [
    "#  8. Format the columns.\n",
    "pyber_summary_df[\"Total Fares\"] = pyber_summary_df[\"Total Fares\"].map(\"${:,.2f}\".format)\n",
    "pyber_summary_df[\"Average Fare per Ride\"]= pyber_summary_df[\"Average Fare per Ride\"].map(\"${:,.2f}\".format)\n",
    "pyber_summary_df[\"Average Fare per Driver\"] = pyber_summary_df[\"Average Fare per Driver\"].map(\"${:,.2f}\".format)\n",
    "pyber_summary_df[\"Total Rides\"] = pyber_summary_df[\"Total Rides\"].map(\"{:,.0f}\".format)\n",
    "pyber_summary_df[\"Total Drivers\"] = pyber_summary_df[\"Total Drivers\"].map(\"{:,.0f}\".format)\n",
    "pyber_summary_df"
   ]
  },
  {
   "cell_type": "markdown",
   "metadata": {},
   "source": [
    "## Deliverable 2.  Create a multiple line plot that shows the total weekly of the fares for each type of city."
   ]
  },
  {
   "cell_type": "code",
   "execution_count": 11,
   "metadata": {},
   "outputs": [],
   "source": [
    "# 1. Read the merged DataFrame\n",
    "pyber_date_data_df = pyber_data_df"
   ]
  },
  {
   "cell_type": "code",
   "execution_count": 12,
   "metadata": {},
   "outputs": [],
   "source": [
    "# 2. Using groupby() to create a new DataFrame showing the sum of the fares \n",
    "#  for each date where the indices are the city type and date.\n",
    "total_fare_date = pyber_data_df.groupby(['type','date']).sum()[['fare']]"
   ]
  },
  {
   "cell_type": "code",
   "execution_count": 13,
   "metadata": {},
   "outputs": [],
   "source": [
    "# 3. Reset the index on the DataFrame you created in #1. This is needed to use the 'pivot()' function.\n",
    "# df = df.reset_index()\n",
    "total_fare_date =total_fare_date.reset_index()"
   ]
  },
  {
   "cell_type": "code",
   "execution_count": 14,
   "metadata": {},
   "outputs": [],
   "source": [
    "# 4. Create a pivot table with the 'date' as the index, the columns ='type', and values='fare' \n",
    "# to get the total fares for each type of city by the date. \n",
    "pivot_data_df = total_fare_date.pivot(index = 'date', columns = 'type', values = 'fare')"
   ]
  },
  {
   "cell_type": "code",
   "execution_count": 15,
   "metadata": {},
   "outputs": [],
   "source": [
    "# 5. Create a new DataFrame from the pivot table DataFrame using loc on the given dates, '2019-01-01':'2019-04-29'.\n",
    "spef_range_df = pivot_data_df.loc['2019-01-01':'2019-04-29']"
   ]
  },
  {
   "cell_type": "code",
   "execution_count": 16,
   "metadata": {},
   "outputs": [
    {
     "data": {
      "text/html": [
       "<div>\n",
       "<style scoped>\n",
       "    .dataframe tbody tr th:only-of-type {\n",
       "        vertical-align: middle;\n",
       "    }\n",
       "\n",
       "    .dataframe tbody tr th {\n",
       "        vertical-align: top;\n",
       "    }\n",
       "\n",
       "    .dataframe thead th {\n",
       "        text-align: right;\n",
       "    }\n",
       "</style>\n",
       "<table border=\"1\" class=\"dataframe\">\n",
       "  <thead>\n",
       "    <tr style=\"text-align: right;\">\n",
       "      <th>type</th>\n",
       "      <th>Rural</th>\n",
       "      <th>Suburban</th>\n",
       "      <th>Urban</th>\n",
       "    </tr>\n",
       "    <tr>\n",
       "      <th>date</th>\n",
       "      <th></th>\n",
       "      <th></th>\n",
       "      <th></th>\n",
       "    </tr>\n",
       "  </thead>\n",
       "  <tbody>\n",
       "    <tr>\n",
       "      <th>2019-01-01 00:08:16</th>\n",
       "      <td>NaN</td>\n",
       "      <td>NaN</td>\n",
       "      <td>37.91</td>\n",
       "    </tr>\n",
       "    <tr>\n",
       "      <th>2019-01-01 00:46:46</th>\n",
       "      <td>NaN</td>\n",
       "      <td>47.74</td>\n",
       "      <td>NaN</td>\n",
       "    </tr>\n",
       "    <tr>\n",
       "      <th>2019-01-01 02:07:24</th>\n",
       "      <td>NaN</td>\n",
       "      <td>24.07</td>\n",
       "      <td>NaN</td>\n",
       "    </tr>\n",
       "    <tr>\n",
       "      <th>2019-01-01 03:46:50</th>\n",
       "      <td>NaN</td>\n",
       "      <td>NaN</td>\n",
       "      <td>7.57</td>\n",
       "    </tr>\n",
       "    <tr>\n",
       "      <th>2019-01-01 05:23:21</th>\n",
       "      <td>NaN</td>\n",
       "      <td>NaN</td>\n",
       "      <td>10.75</td>\n",
       "    </tr>\n",
       "    <tr>\n",
       "      <th>...</th>\n",
       "      <td>...</td>\n",
       "      <td>...</td>\n",
       "      <td>...</td>\n",
       "    </tr>\n",
       "    <tr>\n",
       "      <th>2019-04-28 14:28:36</th>\n",
       "      <td>NaN</td>\n",
       "      <td>NaN</td>\n",
       "      <td>11.46</td>\n",
       "    </tr>\n",
       "    <tr>\n",
       "      <th>2019-04-28 16:29:16</th>\n",
       "      <td>NaN</td>\n",
       "      <td>NaN</td>\n",
       "      <td>36.42</td>\n",
       "    </tr>\n",
       "    <tr>\n",
       "      <th>2019-04-28 17:26:52</th>\n",
       "      <td>NaN</td>\n",
       "      <td>NaN</td>\n",
       "      <td>31.43</td>\n",
       "    </tr>\n",
       "    <tr>\n",
       "      <th>2019-04-28 17:38:09</th>\n",
       "      <td>NaN</td>\n",
       "      <td>34.87</td>\n",
       "      <td>NaN</td>\n",
       "    </tr>\n",
       "    <tr>\n",
       "      <th>2019-04-28 19:35:03</th>\n",
       "      <td>NaN</td>\n",
       "      <td>16.96</td>\n",
       "      <td>NaN</td>\n",
       "    </tr>\n",
       "  </tbody>\n",
       "</table>\n",
       "<p>2196 rows × 3 columns</p>\n",
       "</div>"
      ],
      "text/plain": [
       "type                 Rural  Suburban  Urban\n",
       "date                                       \n",
       "2019-01-01 00:08:16    NaN       NaN  37.91\n",
       "2019-01-01 00:46:46    NaN     47.74    NaN\n",
       "2019-01-01 02:07:24    NaN     24.07    NaN\n",
       "2019-01-01 03:46:50    NaN       NaN   7.57\n",
       "2019-01-01 05:23:21    NaN       NaN  10.75\n",
       "...                    ...       ...    ...\n",
       "2019-04-28 14:28:36    NaN       NaN  11.46\n",
       "2019-04-28 16:29:16    NaN       NaN  36.42\n",
       "2019-04-28 17:26:52    NaN       NaN  31.43\n",
       "2019-04-28 17:38:09    NaN     34.87    NaN\n",
       "2019-04-28 19:35:03    NaN     16.96    NaN\n",
       "\n",
       "[2196 rows x 3 columns]"
      ]
     },
     "execution_count": 16,
     "metadata": {},
     "output_type": "execute_result"
    }
   ],
   "source": [
    "# 6. Set the \"date\" index to datetime datatype. This is necessary to use the resample() method in Step 8.\n",
    "# df.index = pd.to_datetime(df.index)\n",
    "spef_range_df.index = pd.to_datetime(spef_range_df.index)\n",
    "spef_range_df"
   ]
  },
  {
   "cell_type": "code",
   "execution_count": 17,
   "metadata": {},
   "outputs": [
    {
     "name": "stdout",
     "output_type": "stream",
     "text": [
      "<class 'pandas.core.frame.DataFrame'>\n",
      "DatetimeIndex: 2196 entries, 2019-01-01 00:08:16 to 2019-04-28 19:35:03\n",
      "Data columns (total 3 columns):\n",
      " #   Column    Non-Null Count  Dtype  \n",
      "---  ------    --------------  -----  \n",
      " 0   Rural     114 non-null    float64\n",
      " 1   Suburban  573 non-null    float64\n",
      " 2   Urban     1509 non-null   float64\n",
      "dtypes: float64(3)\n",
      "memory usage: 68.6 KB\n"
     ]
    }
   ],
   "source": [
    "# 7. Check that the datatype for the index is datetime using df.info()\n",
    "spef_range_df.info()"
   ]
  },
  {
   "cell_type": "code",
   "execution_count": 18,
   "metadata": {},
   "outputs": [
    {
     "data": {
      "text/html": [
       "<div>\n",
       "<style scoped>\n",
       "    .dataframe tbody tr th:only-of-type {\n",
       "        vertical-align: middle;\n",
       "    }\n",
       "\n",
       "    .dataframe tbody tr th {\n",
       "        vertical-align: top;\n",
       "    }\n",
       "\n",
       "    .dataframe thead th {\n",
       "        text-align: right;\n",
       "    }\n",
       "</style>\n",
       "<table border=\"1\" class=\"dataframe\">\n",
       "  <thead>\n",
       "    <tr style=\"text-align: right;\">\n",
       "      <th>type</th>\n",
       "      <th>Rural</th>\n",
       "      <th>Suburban</th>\n",
       "      <th>Urban</th>\n",
       "    </tr>\n",
       "    <tr>\n",
       "      <th>date</th>\n",
       "      <th></th>\n",
       "      <th></th>\n",
       "      <th></th>\n",
       "    </tr>\n",
       "  </thead>\n",
       "  <tbody>\n",
       "    <tr>\n",
       "      <th>2019-01-06</th>\n",
       "      <td>187.92</td>\n",
       "      <td>721.60</td>\n",
       "      <td>1661.68</td>\n",
       "    </tr>\n",
       "    <tr>\n",
       "      <th>2019-01-13</th>\n",
       "      <td>67.65</td>\n",
       "      <td>1105.13</td>\n",
       "      <td>2050.43</td>\n",
       "    </tr>\n",
       "    <tr>\n",
       "      <th>2019-01-20</th>\n",
       "      <td>306.00</td>\n",
       "      <td>1218.20</td>\n",
       "      <td>1939.02</td>\n",
       "    </tr>\n",
       "    <tr>\n",
       "      <th>2019-01-27</th>\n",
       "      <td>179.69</td>\n",
       "      <td>1203.28</td>\n",
       "      <td>2129.51</td>\n",
       "    </tr>\n",
       "    <tr>\n",
       "      <th>2019-02-03</th>\n",
       "      <td>333.08</td>\n",
       "      <td>1042.79</td>\n",
       "      <td>2086.94</td>\n",
       "    </tr>\n",
       "    <tr>\n",
       "      <th>2019-02-10</th>\n",
       "      <td>115.80</td>\n",
       "      <td>974.34</td>\n",
       "      <td>2162.64</td>\n",
       "    </tr>\n",
       "    <tr>\n",
       "      <th>2019-02-17</th>\n",
       "      <td>95.82</td>\n",
       "      <td>1045.50</td>\n",
       "      <td>2235.07</td>\n",
       "    </tr>\n",
       "    <tr>\n",
       "      <th>2019-02-24</th>\n",
       "      <td>419.06</td>\n",
       "      <td>1412.74</td>\n",
       "      <td>2466.29</td>\n",
       "    </tr>\n",
       "    <tr>\n",
       "      <th>2019-03-03</th>\n",
       "      <td>175.14</td>\n",
       "      <td>858.46</td>\n",
       "      <td>2218.20</td>\n",
       "    </tr>\n",
       "    <tr>\n",
       "      <th>2019-03-10</th>\n",
       "      <td>303.94</td>\n",
       "      <td>925.27</td>\n",
       "      <td>2470.93</td>\n",
       "    </tr>\n",
       "    <tr>\n",
       "      <th>2019-03-17</th>\n",
       "      <td>163.39</td>\n",
       "      <td>906.20</td>\n",
       "      <td>2044.42</td>\n",
       "    </tr>\n",
       "    <tr>\n",
       "      <th>2019-03-24</th>\n",
       "      <td>189.76</td>\n",
       "      <td>1122.20</td>\n",
       "      <td>2368.37</td>\n",
       "    </tr>\n",
       "    <tr>\n",
       "      <th>2019-03-31</th>\n",
       "      <td>199.42</td>\n",
       "      <td>1045.06</td>\n",
       "      <td>1942.77</td>\n",
       "    </tr>\n",
       "    <tr>\n",
       "      <th>2019-04-07</th>\n",
       "      <td>501.24</td>\n",
       "      <td>1010.73</td>\n",
       "      <td>2356.70</td>\n",
       "    </tr>\n",
       "    <tr>\n",
       "      <th>2019-04-14</th>\n",
       "      <td>269.79</td>\n",
       "      <td>784.82</td>\n",
       "      <td>2390.72</td>\n",
       "    </tr>\n",
       "    <tr>\n",
       "      <th>2019-04-21</th>\n",
       "      <td>214.14</td>\n",
       "      <td>1149.27</td>\n",
       "      <td>2303.80</td>\n",
       "    </tr>\n",
       "    <tr>\n",
       "      <th>2019-04-28</th>\n",
       "      <td>191.85</td>\n",
       "      <td>1357.75</td>\n",
       "      <td>2238.29</td>\n",
       "    </tr>\n",
       "  </tbody>\n",
       "</table>\n",
       "</div>"
      ],
      "text/plain": [
       "type         Rural  Suburban    Urban\n",
       "date                                 \n",
       "2019-01-06  187.92    721.60  1661.68\n",
       "2019-01-13   67.65   1105.13  2050.43\n",
       "2019-01-20  306.00   1218.20  1939.02\n",
       "2019-01-27  179.69   1203.28  2129.51\n",
       "2019-02-03  333.08   1042.79  2086.94\n",
       "2019-02-10  115.80    974.34  2162.64\n",
       "2019-02-17   95.82   1045.50  2235.07\n",
       "2019-02-24  419.06   1412.74  2466.29\n",
       "2019-03-03  175.14    858.46  2218.20\n",
       "2019-03-10  303.94    925.27  2470.93\n",
       "2019-03-17  163.39    906.20  2044.42\n",
       "2019-03-24  189.76   1122.20  2368.37\n",
       "2019-03-31  199.42   1045.06  1942.77\n",
       "2019-04-07  501.24   1010.73  2356.70\n",
       "2019-04-14  269.79    784.82  2390.72\n",
       "2019-04-21  214.14   1149.27  2303.80\n",
       "2019-04-28  191.85   1357.75  2238.29"
      ]
     },
     "execution_count": 18,
     "metadata": {},
     "output_type": "execute_result"
    }
   ],
   "source": [
    "# 8. Create a new DataFrame using the \"resample()\" function by week 'W' and get the sum of the fares for each week.\n",
    "resample_df = spef_range_df.resample(\"W\").sum()\n",
    "resample_df"
   ]
  },
  {
   "cell_type": "code",
   "execution_count": 20,
   "metadata": {},
   "outputs": [
    {
     "data": {
      "image/png": "[encoded data removed]",
      "text/plain": [
       "<Figure size 1080x432 with 1 Axes>"
      ]
     },
     "metadata": {},
     "output_type": "display_data"
    }
   ],
   "source": [
    "# 8. Using the object-oriented interface method, plot the resample DataFrame using the df.plot() function. \n",
    "import matplotlib.dates as mdates\n",
    "months = mdates.MonthLocator()\n",
    "fig, ax = plt.subplots(figsize=(15,6))\n",
    "ax.plot(resample_df)\n",
    "\n",
    "ax.xaxis.set_major_locator(months)\n",
    "ax.set_title(\"Total Fare by City Type\")\n",
    "ax.set_ylabel(\"Fare ($USD)\")\n",
    "ax.legend(['Rural', 'Suburban', 'Urban'], loc = \"center\" )\n",
    "plt.savefig(\"Analysis/Total Fare by City Type Chart\")\n",
    "\n",
    "plt.show()\n",
    "\n",
    "\n",
    "# Import the style from Matplotlib.\n",
    "from matplotlib import style\n",
    "# Use the graph style fivethirtyeight.\n",
    "style.use('fivethirtyeight')\n",
    "\n"
   ]
  },
  {
   "cell_type": "code",
   "execution_count": null,
   "metadata": {},
   "outputs": [],
   "source": []
  }
 ],
 "metadata": {
  "anaconda-cloud": {},
  "kernelspec": {
   "display_name": "Python 3",
   "language": "python",
   "name": "python3"
  },
  "language_info": {
   "codemirror_mode": {
    "name": "ipython",
    "version": 3
   },
   "file_extension": ".py",
   "mimetype": "text/x-python",
   "name": "python",
   "nbconvert_exporter": "python",
   "pygments_lexer": "ipython3",
   "version": "3.8.3"
  }
 },
 "nbformat": 4,
 "nbformat_minor": 2
}
